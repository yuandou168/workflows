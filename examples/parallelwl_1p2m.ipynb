{
 "cells": [
  {
   "cell_type": "markdown",
   "source": [
    "Paralle\n",
    "\n",
    "pipelines: \n",
    "1. create a big file\n",
    "2. partition the big file into several small files(a1, a2, a3)\n",
    "3. read & print the first file(a1)\n",
    "4. read & print the second file (a2)\n",
    "5. read & print the third file (a3)\n",
    "6. add new string into a1 and generate new file a1_new\n",
    "7. merge a2 and a3 and generate new file a4\n",
    "8. merge a1_new and a4 into a5\n"
   ],
   "metadata": {}
  },
  {
   "cell_type": "code",
   "execution_count": 1,
   "source": [
    "import os\n",
    "import sys\n",
    "import inspect\n",
    "\n",
    "currentdir = os.path.dirname(os.path.abspath(inspect.getfile(inspect.currentframe())))\n",
    "parentdir = os.path.dirname(currentdir)\n",
    "sys.path.insert(0, parentdir) \n",
    "print(currentdir)\n",
    "\n",
    "import create as c\n",
    "import merge as m\n",
    "import partition as p\n",
    "import re\n",
    "\n",
    "\n"
   ],
   "outputs": [
    {
     "output_type": "stream",
     "name": "stdout",
     "text": [
      "/Users/y.wang8uva.nl/experiments 2021-2024/workflows/examples\n"
     ]
    }
   ],
   "metadata": {}
  },
  {
   "cell_type": "markdown",
   "source": [
    "1. create a big file"
   ],
   "metadata": {}
  },
  {
   "cell_type": "code",
   "execution_count": 2,
   "source": [
    "input_filesize = 20     # MB\n",
    "path = c.generateTXTFile('../files/', input_filesize)\n",
    "print(path)"
   ],
   "outputs": [
    {
     "output_type": "stream",
     "name": "stdout",
     "text": [
      "filepath: ../files/; filename：20210714133531_20MB.txt\n",
      "generated file, size:20MB.\n",
      " 20000000\n",
      "DetailInfo:\n",
      "path: ../files/20210714133531_20MB.txt\n",
      "start:2021-07-14 13:35:31\n",
      "end:2021-07-14 13:35:31\n",
      "time cost:0.0333sec.\n",
      "../files/20210714133531_20MB.txt\n"
     ]
    }
   ],
   "metadata": {}
  },
  {
   "cell_type": "markdown",
   "source": [
    "2. partition the big file into several small files(3)"
   ],
   "metadata": {}
  },
  {
   "cell_type": "code",
   "execution_count": 3,
   "source": [
    "splitddir = '../split/'\n",
    "filenamelist = p.splitTXTFile(path, 3, splitddir)"
   ],
   "outputs": [
    {
     "output_type": "stream",
     "name": "stdout",
     "text": [
      "filename：20210714133535_split0.txt\n",
      "filename：20210714133535_split1.txt\n",
      "filename：20210714133535_split2.txt\n",
      "partition big file, single file size:6.666715MB., no. of files: 3\n",
      "\n",
      "DetailInfo:\n",
      "path: ../split/20210714133535_split2.txt\n",
      "start:2021-07-14 13:35:35\n",
      "end:2021-07-14 13:35:35\n",
      "time cost:0.0193sec.\n"
     ]
    }
   ],
   "metadata": {}
  },
  {
   "cell_type": "markdown",
   "source": [
    "3. read & print the first file(a1)"
   ],
   "metadata": {}
  },
  {
   "cell_type": "code",
   "execution_count": 4,
   "source": [
    "a1 = splitddir+filenamelist[0]\n",
    "with open(a1, 'r') as f:\n",
    "    item1 = f.readlines()\n",
    "    f.close()\n",
    "print(os.path.getsize(a1))"
   ],
   "outputs": [
    {
     "output_type": "stream",
     "name": "stdout",
     "text": [
      "6666666\n"
     ]
    }
   ],
   "metadata": {}
  },
  {
   "cell_type": "markdown",
   "source": [
    "4. read & print the second file (a2)"
   ],
   "metadata": {}
  },
  {
   "cell_type": "code",
   "execution_count": 5,
   "source": [
    "a2 = splitddir+filenamelist[1]\n",
    "with open(a2, 'r') as f:\n",
    "    item2 = f.readlines()\n",
    "    f.close()\n",
    "print(os.path.getsize(a2))"
   ],
   "outputs": [
    {
     "output_type": "stream",
     "name": "stdout",
     "text": [
      "6666666\n"
     ]
    }
   ],
   "metadata": {}
  },
  {
   "cell_type": "markdown",
   "source": [
    "5. read & print the third file (a3)"
   ],
   "metadata": {}
  },
  {
   "cell_type": "code",
   "execution_count": 6,
   "source": [
    "a3 = splitddir+filenamelist[2]\n",
    "with open(a3, 'r') as f:\n",
    "    item3 = f.readlines()\n",
    "    f.close()\n",
    "print(os.path.getsize(a3))"
   ],
   "outputs": [
    {
     "output_type": "stream",
     "name": "stdout",
     "text": [
      "6666666\n"
     ]
    }
   ],
   "metadata": {}
  },
  {
   "cell_type": "markdown",
   "source": [
    "6. add new string into a1 and generate new file a1'"
   ],
   "metadata": {}
  },
  {
   "cell_type": "code",
   "execution_count": 7,
   "source": [
    "# newfilelist = []\n",
    "a1_new = re.split(r'.txt|\\n+', a1)[0]+'_add01.txt'\n",
    "file01 = re.split(r'/|\\n+', a1_new)[2]\n",
    "with open(a1_new, 'a') as f:\n",
    "    f.write('hello!')\n",
    "    f.write(item1[0])\n",
    "    print(os.path.getsize(a1_new))\n",
    "    f.close()\n",
    "\n",
    "# newfilelist.append(file01)"
   ],
   "outputs": [
    {
     "output_type": "stream",
     "name": "stdout",
     "text": [
      "6666672\n"
     ]
    }
   ],
   "metadata": {}
  },
  {
   "cell_type": "markdown",
   "source": [
    "7. merge a2 and a3 and generate new file a4"
   ],
   "metadata": {}
  },
  {
   "cell_type": "code",
   "execution_count": 10,
   "source": [
    "filelist = [a2, a3]\n",
    "indir = '../split/'\n",
    "outdir = '../merge/'\n",
    "a4 = m.mergeTXTFile(indir, filelist, outdir)\n",
    "\n"
   ],
   "outputs": [
    {
     "output_type": "stream",
     "name": "stdout",
     "text": [
      "Filename: 20210714133631_Merged.txt\n",
      "13333332\n",
      "merged file size:13.33MB.\n",
      "\n",
      "DetailInfo:\n",
      "storage path: ../merge/20210714133631_Merged.txt\n",
      "startime:2021-07-14 13:36:31\n",
      "endtime:2021-07-14 13:36:31\n",
      "time consumed:0.0221sec.\n"
     ]
    }
   ],
   "metadata": {}
  },
  {
   "cell_type": "markdown",
   "source": [
    "8. merge a1 and a4 into a3 and generate new file a5"
   ],
   "metadata": {}
  },
  {
   "cell_type": "code",
   "execution_count": 12,
   "source": [
    "indir = '../split/'\n",
    "outdir = '../merge/'\n",
    "inputfiles = [a1_new, a4]\n",
    "a5 = m.mergeTXTFile(indir, inputfiles, outdir)"
   ],
   "outputs": [
    {
     "output_type": "stream",
     "name": "stdout",
     "text": [
      "Filename: 20210714133643_Merged.txt\n",
      "20000004\n",
      "merged file size:20.0MB.\n",
      "\n",
      "DetailInfo:\n",
      "storage path: ../merge/20210714133643_Merged.txt\n",
      "startime:2021-07-14 13:36:43\n",
      "endtime:2021-07-14 13:36:43\n",
      "time consumed:0.034sec.\n"
     ]
    }
   ],
   "metadata": {}
  }
 ],
 "metadata": {
  "interpreter": {
   "hash": "0102f8238f363aeb6def1480039e427c2ecb48b217709ae0c5b4c61beed03137"
  },
  "kernelspec": {
   "display_name": "Python 3.9.1 64-bit ('base': conda)",
   "name": "python3"
  },
  "language_info": {
   "codemirror_mode": {
    "name": "ipython",
    "version": 3
   },
   "file_extension": ".py",
   "mimetype": "text/x-python",
   "name": "python",
   "nbconvert_exporter": "python",
   "pygments_lexer": "ipython3",
   "version": "3.9.1"
  },
  "orig_nbformat": 4
 },
 "nbformat": 4,
 "nbformat_minor": 2
}