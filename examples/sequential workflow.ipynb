{
 "cells": [
  {
   "cell_type": "markdown",
   "source": [
    "Sequence\n",
    "\n",
    "pipelines:\n",
    "1. create a file with fixed size\n",
    "2. read and print the generated file\n",
    "3. Add new string and write to new file\n",
    "4. read & print the new generated file\n",
    "5. add new string and write to new file\n",
    "6. read & print the new generated file\n"
   ],
   "metadata": {}
  },
  {
   "cell_type": "markdown",
   "source": [
    "The size of input file is xx MB."
   ],
   "metadata": {}
  },
  {
   "cell_type": "code",
   "execution_count": null,
   "source": [
    "import os\n",
    "import sys\n",
    "import inspect\n",
    "\n",
    "currentdir = os.path.dirname(os.path.abspath(inspect.getfile(inspect.currentframe())))\n",
    "parentdir = os.path.dirname(currentdir)\n",
    "sys.path.insert(0, parentdir) \n",
    "print(currentdir)\n",
    "\n",
    "import create as c\n",
    "import merge as m\n",
    "import partition as p\n",
    "import re\n",
    "\n",
    "input_filesize = 10     # MB\n"
   ],
   "outputs": [
    {
     "output_type": "stream",
     "name": "stdout",
     "text": [
      "/Users/y.wang8uva.nl/experiments 2021-2024/workflows/examples\n"
     ]
    }
   ],
   "metadata": {}
  },
  {
   "cell_type": "markdown",
   "source": [
    "1. create a file with fixed size"
   ],
   "metadata": {}
  },
  {
   "cell_type": "code",
   "execution_count": null,
   "source": [
    "f1 = c.generateTXTFile('../files/', input_filesize)\n",
    "print(f1)"
   ],
   "outputs": [
    {
     "output_type": "stream",
     "name": "stdout",
     "text": [
      "filepath: ../files/; filename：20210702154351_10MB.txt\n",
      "generated file, size:10MB.\n",
      " 10000000\n",
      "DetailInfo:\n",
      "path: ../files/20210702154351_10MB.txt\n",
      "start:2021-07-02 15:43:51\n",
      "end:2021-07-02 15:43:51\n",
      "time cost:0.0154sec.\n",
      "../files/20210702154351_10MB.txt\n"
     ]
    }
   ],
   "metadata": {}
  },
  {
   "cell_type": "markdown",
   "source": [
    "2. read and print the generated file"
   ],
   "metadata": {}
  },
  {
   "cell_type": "code",
   "execution_count": null,
   "source": [
    "with open(f1, 'r') as f:\n",
    "    item1 = f.readlines()\n",
    "    f.close()\n",
    "print(os.path.getsize(f1))"
   ],
   "outputs": [
    {
     "output_type": "stream",
     "name": "stdout",
     "text": [
      "10000000\n"
     ]
    }
   ],
   "metadata": {}
  },
  {
   "cell_type": "markdown",
   "source": [
    "3. Add new string"
   ],
   "metadata": {}
  },
  {
   "cell_type": "code",
   "execution_count": null,
   "source": [
    "f2 = re.split(r'.txt|\\n+', f1)[0]+'_add01.txt'\n",
    "with open(f2, 'a') as f:\n",
    "    f.write('hello!')\n",
    "    f.write(item1[0])\n",
    "    print(os.path.getsize(f2))\n",
    "    f.close()"
   ],
   "outputs": [
    {
     "output_type": "stream",
     "name": "stdout",
     "text": [
      "20000012\n"
     ]
    }
   ],
   "metadata": {}
  },
  {
   "cell_type": "markdown",
   "source": [
    "4. read & print the new generated file"
   ],
   "metadata": {}
  },
  {
   "cell_type": "code",
   "execution_count": null,
   "source": [
    "with open(f2, 'r') as f:\n",
    "    item2 = f.readlines()\n",
    "    f.close()\n",
    "print(os.path.getsize(f2))"
   ],
   "outputs": [
    {
     "output_type": "stream",
     "name": "stdout",
     "text": [
      "10000006\n"
     ]
    }
   ],
   "metadata": {}
  },
  {
   "cell_type": "markdown",
   "source": [
    "5. add new string"
   ],
   "metadata": {}
  },
  {
   "cell_type": "code",
   "execution_count": null,
   "source": [
    "f3 = re.split(r'.txt|\\n+', f2)[0]+'_add02.txt'\n",
    "with open(f3, 'a') as f:\n",
    "    f.write('hello!')\n",
    "    f.write(item2[0])\n",
    "    print(os.path.getsize(f3))\n",
    "    f.close()"
   ],
   "outputs": [
    {
     "output_type": "stream",
     "name": "stdout",
     "text": [
      "10000012\n"
     ]
    }
   ],
   "metadata": {}
  },
  {
   "cell_type": "markdown",
   "source": [
    "6. read & print the new generated file"
   ],
   "metadata": {}
  },
  {
   "cell_type": "code",
   "execution_count": null,
   "source": [
    "with open(f3, 'r') as f:\n",
    "    item3 = f.readlines()\n",
    "    f.close()\n",
    "print(os.path.getsize(f3))"
   ],
   "outputs": [
    {
     "output_type": "stream",
     "name": "stdout",
     "text": [
      "10000012\n"
     ]
    }
   ],
   "metadata": {}
  }
 ],
 "metadata": {
  "interpreter": {
   "hash": "0102f8238f363aeb6def1480039e427c2ecb48b217709ae0c5b4c61beed03137"
  },
  "kernelspec": {
   "display_name": "Python 3.9.1 64-bit ('base': conda)",
   "name": "python3"
  },
  "language_info": {
   "codemirror_mode": {
    "name": "ipython",
    "version": 3
   },
   "file_extension": ".py",
   "mimetype": "text/x-python",
   "name": "python",
   "nbconvert_exporter": "python",
   "pygments_lexer": "ipython3",
   "version": "3.9.1"
  },
  "orig_nbformat": 4
 },
 "nbformat": 4,
 "nbformat_minor": 2
}