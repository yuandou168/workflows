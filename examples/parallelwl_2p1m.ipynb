{
 "cells": [
  {
   "cell_type": "markdown",
   "source": [
    "Parallel\n",
    "\n",
    "pipelines:\n",
    "1. create a big file f\n",
    "2. partition f into several small files(a1, a2, a3)\n",
    "3. partition a1 into several small files(a4, a5, a6)\n",
    "4. add new string into a2 and generate new file a2'(a7)\n",
    "5. add new string into a4 and generate new file a3'(a8)\n",
    "6. read & print the file a4\n",
    "7. read & print the file a5\n",
    "8. merge a6, a7, and a8 and generate new file a9"
   ],
   "metadata": {}
  },
  {
   "cell_type": "code",
   "execution_count": 1,
   "source": [
    "import os\n",
    "import sys\n",
    "import inspect\n",
    "\n",
    "currentdir = os.path.dirname(os.path.abspath(inspect.getfile(inspect.currentframe())))\n",
    "parentdir = os.path.dirname(currentdir)\n",
    "sys.path.insert(0, parentdir) \n",
    "print(currentdir)\n",
    "\n",
    "import create as c\n",
    "import merge as m\n",
    "import partition as p\n",
    "import re\n",
    "\n"
   ],
   "outputs": [
    {
     "output_type": "stream",
     "name": "stdout",
     "text": [
      "/Users/y.wang8uva.nl/experiments 2021-2024/workflows/examples\n"
     ]
    }
   ],
   "metadata": {}
  },
  {
   "cell_type": "markdown",
   "source": [
    "1. create a big file f"
   ],
   "metadata": {}
  },
  {
   "cell_type": "code",
   "execution_count": 2,
   "source": [
    "input_filesize = 10     # MB\n",
    "f = c.generateTXTFile('../files/', input_filesize)\n",
    "print(f)"
   ],
   "outputs": [
    {
     "output_type": "stream",
     "name": "stdout",
     "text": [
      "filepath: ../files/; filename：20210714133859_10MB.txt\n",
      "generated file, size:10MB.\n",
      " 10000000\n",
      "DetailInfo:\n",
      "path: ../files/20210714133859_10MB.txt\n",
      "start:2021-07-14 13:38:59\n",
      "end:2021-07-14 13:38:59\n",
      "time cost:0.0202sec.\n",
      "../files/20210714133859_10MB.txt\n"
     ]
    }
   ],
   "metadata": {}
  },
  {
   "cell_type": "markdown",
   "source": [
    "2. partition f into several small files(a1, a2, a3)"
   ],
   "metadata": {}
  },
  {
   "cell_type": "code",
   "execution_count": 3,
   "source": [
    "splitddir = '../split/'\n",
    "filenamelist = p.splitTXTFile(f, 3, splitddir)\n",
    "a1, a2, a3 = filenamelist[0], filenamelist[1], filenamelist[2]"
   ],
   "outputs": [
    {
     "output_type": "stream",
     "name": "stdout",
     "text": [
      "filename：20210714133903_split0.txt\n",
      "filename：20210714133903_split1.txt\n",
      "filename：20210714133903_split2.txt\n",
      "partition big file, single file size:3.333382MB., no. of files: 3\n",
      "\n",
      "DetailInfo:\n",
      "path: ../split/20210714133903_split2.txt\n",
      "start:2021-07-14 13:39:03\n",
      "end:2021-07-14 13:39:03\n",
      "time cost:0.0124sec.\n"
     ]
    }
   ],
   "metadata": {}
  },
  {
   "cell_type": "markdown",
   "source": [
    "3. partition a1 into several small files(a4, a5, a6)"
   ],
   "metadata": {}
  },
  {
   "cell_type": "code",
   "execution_count": 4,
   "source": [
    "splitddir = '../split/'\n",
    "filenamelist = p.splitTXTFile(splitddir+a1, 3, splitddir)\n",
    "a4, a5, a6 = filenamelist[0], filenamelist[1], filenamelist[2]\n"
   ],
   "outputs": [
    {
     "output_type": "stream",
     "name": "stdout",
     "text": [
      "filename：20210714133908_split0.txt\n",
      "filename：20210714133908_split1.txt\n",
      "filename：20210714133908_split2.txt\n",
      "partition big file, single file size:1.11116MB., no. of files: 3\n",
      "\n",
      "DetailInfo:\n",
      "path: ../split/20210714133908_split2.txt\n",
      "start:2021-07-14 13:39:08\n",
      "end:2021-07-14 13:39:08\n",
      "time cost:0.00413sec.\n"
     ]
    }
   ],
   "metadata": {}
  },
  {
   "cell_type": "markdown",
   "source": [
    "4. add new string into a2 and generate new file a2'(a7)"
   ],
   "metadata": {}
  },
  {
   "cell_type": "code",
   "execution_count": 5,
   "source": [
    "a2_new = re.split(r'.txt|\\n+', a2)[0]+'_add01.txt'\n",
    "f7 = re.split(r'/|\\n+', a2_new)[2]\n",
    "path = '../split/'\n",
    "with open (a2, 'r') as f:\n",
    "    item = f.readlines()\n",
    "    f.close()\n",
    "\n",
    "with open(a2_new, 'a') as f:\n",
    "    f.write('hello!')\n",
    "    f.write(item[0])\n",
    "    print(os.path.getsize(a2_new))\n",
    "    f.close()"
   ],
   "outputs": [
    {
     "output_type": "stream",
     "name": "stdout",
     "text": [
      "3333339\n"
     ]
    }
   ],
   "metadata": {}
  },
  {
   "cell_type": "markdown",
   "source": [
    "5. add new string into a4 and generate new file a3'(a8)"
   ],
   "metadata": {}
  },
  {
   "cell_type": "code",
   "execution_count": 6,
   "source": [
    "# newfilelist = []\n",
    "a3_new = re.split(r'.txt|\\n+', a3)[0]+'_add01.txt'\n",
    "f8 = re.split(r'/|\\n+', a3_new)[2]\n",
    "with open (a3, 'r') as f:\n",
    "    item = f.readlines()\n",
    "    f.close()\n",
    "\n",
    "with open(a3_new, 'a') as f:\n",
    "    f.write('hello!')\n",
    "    f.write(item[0])\n",
    "    print(os.path.getsize(a3_new))\n",
    "    f.close()"
   ],
   "outputs": [
    {
     "output_type": "stream",
     "name": "stdout",
     "text": [
      "3333339\n"
     ]
    }
   ],
   "metadata": {}
  },
  {
   "cell_type": "markdown",
   "source": [
    "6. read & print the file a4"
   ],
   "metadata": {}
  },
  {
   "cell_type": "code",
   "execution_count": 7,
   "source": [
    "with open(a4, 'r') as f:\n",
    "    item4 = f.readlines()\n",
    "    f.close()\n",
    "print(os.path.getsize(a4))"
   ],
   "outputs": [
    {
     "output_type": "stream",
     "name": "stdout",
     "text": [
      "1111111\n"
     ]
    }
   ],
   "metadata": {}
  },
  {
   "cell_type": "markdown",
   "source": [
    "7. read & print the file a5"
   ],
   "metadata": {}
  },
  {
   "cell_type": "code",
   "execution_count": 8,
   "source": [
    "with open(a5, 'r') as f:\n",
    "    item5 = f.readlines()\n",
    "    f.close()\n",
    "print(os.path.getsize(a5))"
   ],
   "outputs": [
    {
     "output_type": "stream",
     "name": "stdout",
     "text": [
      "1111111\n"
     ]
    }
   ],
   "metadata": {}
  },
  {
   "cell_type": "markdown",
   "source": [
    "8. merge a6, a7, and a8 and generate new file a9"
   ],
   "metadata": {}
  },
  {
   "cell_type": "code",
   "execution_count": 9,
   "source": [
    "filelist = [a6, a2_new, a3_new]\n",
    "print(filelist)\n",
    "\n",
    "indir = '../split/'\n",
    "outdir = '../merge/'\n",
    "m.mergeTXTFile(indir, filelist, outdir)"
   ],
   "outputs": [
    {
     "output_type": "stream",
     "name": "stdout",
     "text": [
      "['../split/20210714133908_split2.txt', '../split/20210714133903_split1_add01.txt', '../split/20210714133903_split2_add01.txt']\n",
      "Filename: 20210714133923_Merged.txt\n",
      "7777789\n",
      "merged file size:7.78MB.\n",
      "\n",
      "DetailInfo:\n",
      "storage path: ../merge/20210714133923_Merged.txt\n",
      "startime:2021-07-14 13:39:23\n",
      "endtime:2021-07-14 13:39:23\n",
      "time consumed:0.0144sec.\n"
     ]
    },
    {
     "output_type": "execute_result",
     "data": {
      "text/plain": [
       "'../merge/20210714133923_Merged.txt'"
      ]
     },
     "metadata": {},
     "execution_count": 9
    }
   ],
   "metadata": {}
  }
 ],
 "metadata": {
  "orig_nbformat": 4,
  "language_info": {
   "name": "python"
  }
 },
 "nbformat": 4,
 "nbformat_minor": 2
}